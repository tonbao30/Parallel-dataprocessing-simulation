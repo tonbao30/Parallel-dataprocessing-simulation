{
 "cells": [
  {
   "cell_type": "code",
   "execution_count": 1,
   "metadata": {},
   "outputs": [],
   "source": [
    "# import statements\n",
    "from time import sleep\n",
    "from json import dumps\n",
    "from kafka import KafkaProducer\n",
    "import random\n",
    "import datetime as dt\n"
   ]
  },
  {
   "cell_type": "code",
   "execution_count": 2,
   "metadata": {},
   "outputs": [],
   "source": [
    "import csv\n",
    "import json\n",
    "\n",
    "csvfile = open('./assignment_data/climate_streaming.csv', 'r')\n",
    "\n",
    "\n",
    "fieldnames = (\"lat\",\"lon\",\"air_temp\",\"relative_humid\",\"windspeed\",\"max_wind_speed\",\"prep\")\n",
    "reader = csv.DictReader( csvfile, fieldnames)\n",
    "rows = list(reader)\n",
    "data = rows[1:]"
   ]
  },
  {
   "cell_type": "code",
   "execution_count": 3,
   "metadata": {},
   "outputs": [
    {
     "name": "stdout",
     "output_type": "stream",
     "text": [
      "Publishing records..\n",
      "Message published successfully : {'created_time': '2019-05-24T15:01:13', 'sender_id': 1, 'data': {'lon': '149.31', 'relative_humid': '57.2', 'prep': ' 0.98G', 'air_temp': '19', 'lat': '-37.59', 'max_wind_speed': '15', 'windspeed': '8.9'}}\n",
      "Message published successfully : {'created_time': '2019-05-24T15:01:19', 'sender_id': 1, 'data': {'lon': '148.073', 'relative_humid': '40.5', 'prep': ' 0.12G', 'air_temp': '7', 'lat': '-37.336', 'max_wind_speed': '15', 'windspeed': '8.1'}}\n",
      "Message published successfully : {'created_time': '2019-05-24T15:01:24', 'sender_id': 1, 'data': {'lon': '142.5237', 'relative_humid': '38.6', 'prep': ' 0.31G', 'air_temp': '8', 'lat': '-36.5548', 'max_wind_speed': '18.1', 'windspeed': '12.8'}}\n",
      "Message published successfully : {'created_time': '2019-05-24T15:01:29', 'sender_id': 1, 'data': {'lon': '143.447', 'relative_humid': '53.4', 'prep': ' 0.00I', 'air_temp': '23', 'lat': '-37.621', 'max_wind_speed': '11.1', 'windspeed': '6.1'}}\n",
      "Message published successfully : {'created_time': '2019-05-24T15:01:34', 'sender_id': 1, 'data': {'lon': '143.841', 'relative_humid': '58.1', 'prep': ' 0.00G', 'air_temp': '21', 'lat': '-38.167', 'max_wind_speed': '11.1', 'windspeed': '5.3'}}\n",
      "Message published successfully : {'created_time': '2019-05-24T15:01:39', 'sender_id': 1, 'data': {'lon': '141.1515', 'relative_humid': '55.5', 'prep': ' 0.00I', 'air_temp': '22', 'lat': '-36.3334', 'max_wind_speed': '19', 'windspeed': '10.3'}}\n",
      "Message published successfully : {'created_time': '2019-05-24T15:01:44', 'sender_id': 1, 'data': {'lon': '141.596', 'relative_humid': '50.1', 'prep': ' 0.00G', 'air_temp': '14', 'lat': '-36.418', 'max_wind_speed': '15', 'windspeed': '8.7'}}\n",
      "Message published successfully : {'created_time': '2019-05-24T15:01:49', 'sender_id': 1, 'data': {'lon': '148.064', 'relative_humid': '41', 'prep': ' 0.47G', 'air_temp': '8', 'lat': '-37.335', 'max_wind_speed': '16.9', 'windspeed': '11'}}\n",
      "Message published successfully : {'created_time': '2019-05-24T15:01:54', 'sender_id': 1, 'data': {'lon': '142.154', 'relative_humid': '47', 'prep': ' 0.02G', 'air_temp': '13', 'lat': '-37.719', 'max_wind_speed': '15', 'windspeed': '7.9'}}\n",
      "Message published successfully : {'created_time': '2019-05-24T15:01:59', 'sender_id': 1, 'data': {'lon': '144.15', 'relative_humid': '50.4', 'prep': ' 0.01G', 'air_temp': '14', 'lat': '-36.752', 'max_wind_speed': '20', 'windspeed': '12.8'}}\n",
      "Message published successfully : {'created_time': '2019-05-24T15:02:04', 'sender_id': 1, 'data': {'lon': '143.352', 'relative_humid': '50.6', 'prep': ' 0.00G', 'air_temp': '18', 'lat': '-37.477', 'max_wind_speed': '13', 'windspeed': '6'}}\n",
      "Message published successfully : {'created_time': '2019-05-24T15:02:09', 'sender_id': 1, 'data': {'lon': '146.944', 'relative_humid': '44.6', 'prep': ' 0.39G', 'air_temp': '8', 'lat': '-38.495', 'max_wind_speed': '8', 'windspeed': '3.9'}}\n",
      "Message published successfully : {'created_time': '2019-05-24T15:02:14', 'sender_id': 1, 'data': {'lon': '148.143', 'relative_humid': '39', 'prep': ' 0.00G', 'air_temp': '9', 'lat': '-37.457', 'max_wind_speed': '8.9', 'windspeed': '5.6'}}\n",
      "Message published successfully : {'created_time': '2019-05-24T15:02:19', 'sender_id': 1, 'data': {'lon': '142.524', 'relative_humid': '50.3', 'prep': ' 0.02G', 'air_temp': '13', 'lat': '-36.834', 'max_wind_speed': '13', 'windspeed': '8.6'}}\n",
      "Message published successfully : {'created_time': '2019-05-24T15:02:24', 'sender_id': 1, 'data': {'lon': '144.961', 'relative_humid': '43.6', 'prep': ' 0.00I', 'air_temp': '13', 'lat': '-36.5871', 'max_wind_speed': '15', 'windspeed': '9'}}\n",
      "Message published successfully : {'created_time': '2019-05-24T15:02:29', 'sender_id': 1, 'data': {'lon': '141.145', 'relative_humid': '41.6', 'prep': ' 0.24G', 'air_temp': '8', 'lat': '-37.238', 'max_wind_speed': '15.9', 'windspeed': '8.3'}}\n",
      "Message published successfully : {'created_time': '2019-05-24T15:02:34', 'sender_id': 1, 'data': {'lon': '141.373', 'relative_humid': '52.2', 'prep': ' 0.00I', 'air_temp': '26', 'lat': '-37.062', 'max_wind_speed': '16.9', 'windspeed': '13.7'}}\n",
      "Message published successfully : {'created_time': '2019-05-24T15:02:39', 'sender_id': 1, 'data': {'lon': '148.114', 'relative_humid': '44.4', 'prep': ' 0.12G', 'air_temp': '10', 'lat': '-37.448', 'max_wind_speed': '11.1', 'windspeed': '5.6'}}\n",
      "Message published successfully : {'created_time': '2019-05-24T15:02:44', 'sender_id': 1, 'data': {'lon': '141.6716', 'relative_humid': '42.5', 'prep': ' 0.00I', 'air_temp': '13', 'lat': '-36.279', 'max_wind_speed': '15', 'windspeed': '8'}}\n",
      "Message published successfully : {'created_time': '2019-05-24T15:02:49', 'sender_id': 1, 'data': {'lon': '146.154', 'relative_humid': '53.3', 'prep': ' 0.00I', 'air_temp': '18', 'lat': '-36.275', 'max_wind_speed': '14', 'windspeed': '7.9'}}\n",
      "Message published successfully : {'created_time': '2019-05-24T15:02:54', 'sender_id': 1, 'data': {'lon': '145.607', 'relative_humid': '43.3', 'prep': ' 0.00I', 'air_temp': '10', 'lat': '-35.937', 'max_wind_speed': '7', 'windspeed': '2.6'}}\n",
      "Message published successfully : {'created_time': '2019-05-24T15:02:59', 'sender_id': 1, 'data': {'lon': '146.7777', 'relative_humid': '50.4', 'prep': ' 0.00I', 'air_temp': '17', 'lat': '-37.1815', 'max_wind_speed': '16.9', 'windspeed': '10.8'}}\n",
      "Message published successfully : {'created_time': '2019-05-24T15:03:04', 'sender_id': 1, 'data': {'lon': '148.099', 'relative_humid': '35.6', 'prep': ' 0.00I', 'air_temp': '10', 'lat': '-37.333', 'max_wind_speed': '20', 'windspeed': '14.5'}}\n",
      "Message published successfully : {'created_time': '2019-05-24T15:03:09', 'sender_id': 1, 'data': {'lon': '141.259', 'relative_humid': '52.8', 'prep': ' 0.98G', 'air_temp': '14', 'lat': '-37.588', 'max_wind_speed': '18.1', 'windspeed': '9.3'}}\n",
      "Message published successfully : {'created_time': '2019-05-24T15:03:14', 'sender_id': 1, 'data': {'lon': '148.109', 'relative_humid': '50.7', 'prep': ' 0.12G', 'air_temp': '14', 'lat': '-37.461', 'max_wind_speed': '13', 'windspeed': '8.6'}}\n",
      "Message published successfully : {'created_time': '2019-05-24T15:03:19', 'sender_id': 1, 'data': {'lon': '149.33', 'relative_humid': '46.7', 'prep': ' 0.00I', 'air_temp': '16', 'lat': '-37.591', 'max_wind_speed': '16.9', 'windspeed': '10'}}\n",
      "Message published successfully : {'created_time': '2019-05-24T15:03:24', 'sender_id': 1, 'data': {'lon': '143.426', 'relative_humid': '47', 'prep': ' 0.00I', 'air_temp': '10', 'lat': '-37.245', 'max_wind_speed': '8.9', 'windspeed': '5.2'}}\n",
      "Message published successfully : {'created_time': '2019-05-24T15:03:29', 'sender_id': 1, 'data': {'lon': '148.088', 'relative_humid': '43.9', 'prep': ' 0.08G', 'air_temp': '12', 'lat': '-37.406', 'max_wind_speed': '15.9', 'windspeed': '12'}}\n",
      "Message published successfully : {'created_time': '2019-05-24T15:03:34', 'sender_id': 1, 'data': {'lon': '142.3787', 'relative_humid': '41.6', 'prep': ' 0.00I', 'air_temp': '14', 'lat': '-35.6374', 'max_wind_speed': '18.1', 'windspeed': '13.1'}}\n",
      "Message published successfully : {'created_time': '2019-05-24T15:03:39', 'sender_id': 1, 'data': {'lon': '143.416', 'relative_humid': '53.7', 'prep': ' 0.51G', 'air_temp': '15', 'lat': '-37.856', 'max_wind_speed': '11.1', 'windspeed': '6.8'}}\n",
      "Message published successfully : {'created_time': '2019-05-24T15:03:44', 'sender_id': 1, 'data': {'lon': '148.05', 'relative_humid': '40.5', 'prep': ' 0.00I', 'air_temp': '7', 'lat': '-37.562', 'max_wind_speed': '8', 'windspeed': '3.1'}}\n",
      "Message published successfully : {'created_time': '2019-05-24T15:03:49', 'sender_id': 1, 'data': {'lon': '143.735', 'relative_humid': '58.1', 'prep': ' 0.04G', 'air_temp': '17', 'lat': '-36.098', 'max_wind_speed': '19', 'windspeed': '11.7'}}\n",
      "Message published successfully : {'created_time': '2019-05-24T15:03:54', 'sender_id': 1, 'data': {'lon': '142.1944', 'relative_humid': '46.9', 'prep': ' 0.00I', 'air_temp': '22', 'lat': '-36.4274', 'max_wind_speed': '19', 'windspeed': '12.9'}}\n",
      "Message published successfully : {'created_time': '2019-05-24T15:03:59', 'sender_id': 1, 'data': {'lon': '145.62', 'relative_humid': '42.6', 'prep': ' 0.04G', 'air_temp': '10', 'lat': '-35.892', 'max_wind_speed': '15', 'windspeed': '8.9'}}\n"
     ]
    },
    {
     "name": "stdout",
     "output_type": "stream",
     "text": [
      "Message published successfully : {'created_time': '2019-05-24T15:04:04', 'sender_id': 1, 'data': {'lon': '142.7354', 'relative_humid': '44.1', 'prep': ' 0.02G', 'air_temp': '13', 'lat': '-36.7084', 'max_wind_speed': '19', 'windspeed': '12.9'}}\n",
      "Message published successfully : {'created_time': '2019-05-24T15:04:09', 'sender_id': 1, 'data': {'lon': '149.316', 'relative_humid': '58.3', 'prep': ' 0.04G', 'air_temp': '25', 'lat': '-37.583', 'max_wind_speed': '22', 'windspeed': '12.2'}}\n",
      "Message published successfully : {'created_time': '2019-05-24T15:04:14', 'sender_id': 1, 'data': {'lon': '142.2536', 'relative_humid': '40.4', 'prep': ' 0.04G', 'air_temp': '11', 'lat': '-36.7179', 'max_wind_speed': '15', 'windspeed': '9.2'}}\n",
      "Message published successfully : {'created_time': '2019-05-24T15:04:19', 'sender_id': 1, 'data': {'lon': '142.3282', 'relative_humid': '41.2', 'prep': ' 0.01G', 'air_temp': '9', 'lat': '-36.8948', 'max_wind_speed': '13', 'windspeed': '6.7'}}\n",
      "Message published successfully : {'created_time': '2019-05-24T15:04:24', 'sender_id': 1, 'data': {'lon': '149.294', 'relative_humid': '60.4', 'prep': ' 0.00I', 'air_temp': '21', 'lat': '-37.62', 'max_wind_speed': '12', 'windspeed': '6.8'}}\n",
      "Message published successfully : {'created_time': '2019-05-24T15:04:30', 'sender_id': 1, 'data': {'lon': '148.126', 'relative_humid': '40.5', 'prep': ' 0.00G', 'air_temp': '11', 'lat': '-37.45', 'max_wind_speed': '26', 'windspeed': '13.4'}}\n",
      "Message published successfully : {'created_time': '2019-05-24T15:04:35', 'sender_id': 1, 'data': {'lon': '146.157', 'relative_humid': '50.4', 'prep': ' 0.00G', 'air_temp': '17', 'lat': '-36.282', 'max_wind_speed': '16.9', 'windspeed': '11.9'}}\n",
      "Message published successfully : {'created_time': '2019-05-24T15:04:40', 'sender_id': 1, 'data': {'lon': '142.9848', 'relative_humid': '44.5', 'prep': ' 0.00G', 'air_temp': '15', 'lat': '-37.6745', 'max_wind_speed': '14', 'windspeed': '10.2'}}\n",
      "Message published successfully : {'created_time': '2019-05-24T15:04:45', 'sender_id': 1, 'data': {'lon': '148.067', 'relative_humid': '42.5', 'prep': ' 0.04G', 'air_temp': '13', 'lat': '-37.401', 'max_wind_speed': '19', 'windspeed': '14'}}\n",
      "Message published successfully : {'created_time': '2019-05-24T15:04:50', 'sender_id': 1, 'data': {'lon': '144.972', 'relative_humid': '57.3', 'prep': ' 0.00I', 'air_temp': '21', 'lat': '-36.952', 'max_wind_speed': '9.9', 'windspeed': '5.4'}}\n",
      "Message published successfully : {'created_time': '2019-05-24T15:04:55', 'sender_id': 1, 'data': {'lon': '143.7295', 'relative_humid': '48.7', 'prep': ' 0.01G', 'air_temp': '15', 'lat': '-36.3674', 'max_wind_speed': '20', 'windspeed': '8.5'}}\n",
      "Message published successfully : {'created_time': '2019-05-24T15:05:00', 'sender_id': 1, 'data': {'lon': '144.1064', 'relative_humid': '53', 'prep': ' 0.00I', 'air_temp': '17', 'lat': '-37.9243', 'max_wind_speed': '22.9', 'windspeed': '14.6'}}\n",
      "Message published successfully : {'created_time': '2019-05-24T15:05:05', 'sender_id': 1, 'data': {'lon': '149.281', 'relative_humid': '53.8', 'prep': ' 0.02G', 'air_temp': '19', 'lat': '-37.618', 'max_wind_speed': '15', 'windspeed': '9.2'}}\n",
      "Message published successfully : {'created_time': '2019-05-24T15:05:10', 'sender_id': 1, 'data': {'lon': '142.0839', 'relative_humid': '43.9', 'prep': ' 0.00G', 'air_temp': '9', 'lat': '-36.5243', 'max_wind_speed': '9.9', 'windspeed': '5.7'}}\n",
      "Message published successfully : {'created_time': '2019-05-24T15:05:15', 'sender_id': 1, 'data': {'lon': '149.323', 'relative_humid': '56.8', 'prep': ' 0.00I', 'air_temp': '19', 'lat': '-37.623', 'max_wind_speed': '11.1', 'windspeed': '7.9'}}\n",
      "Message published successfully : {'created_time': '2019-05-24T15:05:20', 'sender_id': 1, 'data': {'lon': '146.272', 'relative_humid': '53.3', 'prep': ' 0.00G', 'air_temp': '18', 'lat': '-38.912', 'max_wind_speed': '15', 'windspeed': '10.8'}}\n",
      "Message published successfully : {'created_time': '2019-05-24T15:05:25', 'sender_id': 1, 'data': {'lon': '143.578', 'relative_humid': '56.1', 'prep': ' 0.00I', 'air_temp': '15', 'lat': '-36.152', 'max_wind_speed': '9.9', 'windspeed': '5.1'}}\n",
      "Message published successfully : {'created_time': '2019-05-24T15:05:30', 'sender_id': 1, 'data': {'lon': '141.0357', 'relative_humid': '40.4', 'prep': ' 0.00G', 'air_temp': '12', 'lat': '-37.0884', 'max_wind_speed': '8.9', 'windspeed': '5.9'}}\n",
      "Message published successfully : {'created_time': '2019-05-24T15:05:35', 'sender_id': 1, 'data': {'lon': '143.282', 'relative_humid': '58.3', 'prep': ' 0.00I', 'air_temp': '25', 'lat': '-36.942', 'max_wind_speed': '13', 'windspeed': '7.1'}}\n",
      "Message published successfully : {'created_time': '2019-05-24T15:05:40', 'sender_id': 1, 'data': {'lon': '148.091', 'relative_humid': '39.3', 'prep': ' 0.00G', 'air_temp': '8', 'lat': '-37.332', 'max_wind_speed': '14', 'windspeed': '7.7'}}\n",
      "Message published successfully : {'created_time': '2019-05-24T15:05:45', 'sender_id': 1, 'data': {'lon': '148.117', 'relative_humid': '43.9', 'prep': ' 0.12G', 'air_temp': '11', 'lat': '-37.478', 'max_wind_speed': '16.9', 'windspeed': '11.2'}}\n",
      "Message published successfully : {'created_time': '2019-05-24T15:05:50', 'sender_id': 1, 'data': {'lon': '144.17', 'relative_humid': '57.5', 'prep': ' 0.00G', 'air_temp': '18', 'lat': '-37.863', 'max_wind_speed': '21', 'windspeed': '16.1'}}\n",
      "Message published successfully : {'created_time': '2019-05-24T15:05:55', 'sender_id': 1, 'data': {'lon': '143.767', 'relative_humid': '53.5', 'prep': ' 0.31G', 'air_temp': '20', 'lat': '-36.1', 'max_wind_speed': '15.9', 'windspeed': '7.2'}}\n",
      "Message published successfully : {'created_time': '2019-05-24T15:06:00', 'sender_id': 1, 'data': {'lon': '146.95', 'relative_humid': '38.6', 'prep': ' 0.00I', 'air_temp': '5', 'lat': '-38.498', 'max_wind_speed': '5.1', 'windspeed': '1.8'}}\n",
      "Message published successfully : {'created_time': '2019-05-24T15:06:05', 'sender_id': 1, 'data': {'lon': '146.155', 'relative_humid': '56.3', 'prep': ' 0.08G', 'air_temp': '22', 'lat': '-36.273', 'max_wind_speed': '13', 'windspeed': '8'}}\n",
      "Message published successfully : {'created_time': '2019-05-24T15:06:10', 'sender_id': 1, 'data': {'lon': '143.1666', 'relative_humid': '44.2', 'prep': ' 0.00I', 'air_temp': '11', 'lat': '-36.2212', 'max_wind_speed': '9.9', 'windspeed': '5.8'}}\n",
      "Message published successfully : {'created_time': '2019-05-24T15:06:15', 'sender_id': 1, 'data': {'lon': '149.297', 'relative_humid': '53.4', 'prep': ' 0.00I', 'air_temp': '22', 'lat': '-37.6', 'max_wind_speed': '19', 'windspeed': '10.9'}}\n",
      "Message published successfully : {'created_time': '2019-05-24T15:06:20', 'sender_id': 1, 'data': {'lon': '144.877', 'relative_humid': '51.6', 'prep': ' 0.05G', 'air_temp': '12', 'lat': '-36.498', 'max_wind_speed': '11.1', 'windspeed': '3.4'}}\n",
      "Message published successfully : {'created_time': '2019-05-24T15:06:25', 'sender_id': 1, 'data': {'lon': '141.063', 'relative_humid': '51.9', 'prep': ' 0.01G', 'air_temp': '15', 'lat': '-35.364', 'max_wind_speed': '12', 'windspeed': '6.6'}}\n",
      "Message published successfully : {'created_time': '2019-05-24T15:06:30', 'sender_id': 1, 'data': {'lon': '143.7313', 'relative_humid': '44.9', 'prep': ' 0.24G', 'air_temp': '17', 'lat': '-36.3782', 'max_wind_speed': '27', 'windspeed': '16.1'}}\n"
     ]
    },
    {
     "ename": "KeyboardInterrupt",
     "evalue": "",
     "output_type": "error",
     "traceback": [
      "\u001b[0;31m---------------------------------------------------------------------------\u001b[0m",
      "\u001b[0;31mKeyboardInterrupt\u001b[0m                         Traceback (most recent call last)",
      "\u001b[0;32m<ipython-input-3-1871c893e5a4>\u001b[0m in \u001b[0;36m<module>\u001b[0;34m()\u001b[0m\n\u001b[1;32m     46\u001b[0m         \u001b[0mstream_data\u001b[0m \u001b[0;34m=\u001b[0m \u001b[0;34m{\u001b[0m\u001b[0;34m'created_time'\u001b[0m\u001b[0;34m:\u001b[0m \u001b[0mdatetime\u001b[0m\u001b[0;34m,\u001b[0m \u001b[0;34m'sender_id'\u001b[0m \u001b[0;34m:\u001b[0m \u001b[0;36m1\u001b[0m\u001b[0;34m,\u001b[0m\u001b[0;34m'data'\u001b[0m \u001b[0;34m:\u001b[0m \u001b[0mdata\u001b[0m\u001b[0;34m[\u001b[0m\u001b[0mrandom\u001b[0m\u001b[0;34m[\u001b[0m\u001b[0me\u001b[0m\u001b[0;34m]\u001b[0m\u001b[0;34m]\u001b[0m\u001b[0;34m}\u001b[0m\u001b[0;34m\u001b[0m\u001b[0m\n\u001b[1;32m     47\u001b[0m         \u001b[0mpublish_message\u001b[0m\u001b[0;34m(\u001b[0m\u001b[0mproducer01\u001b[0m\u001b[0;34m,\u001b[0m \u001b[0mtopic\u001b[0m\u001b[0;34m,\u001b[0m \u001b[0;34m'sender_1'\u001b[0m\u001b[0;34m,\u001b[0m\u001b[0mstream_data\u001b[0m\u001b[0;34m)\u001b[0m\u001b[0;34m\u001b[0m\u001b[0m\n\u001b[0;32m---> 48\u001b[0;31m         \u001b[0msleep\u001b[0m\u001b[0;34m(\u001b[0m\u001b[0;36m5\u001b[0m\u001b[0;34m)\u001b[0m \u001b[0;31m#stream every 5 seconds\u001b[0m\u001b[0;34m\u001b[0m\u001b[0m\n\u001b[0m",
      "\u001b[0;31mKeyboardInterrupt\u001b[0m: "
     ]
    }
   ],
   "source": [
    "# import statements\n",
    "\n",
    "from time import sleep\n",
    "from json import dumps\n",
    "from kafka import KafkaProducer\n",
    "import random\n",
    "import datetime as dt\n",
    "\n",
    "\n",
    "def publish_message(producer_instance, topic_name, key, data):\n",
    "    try:\n",
    "        key_bytes = bytes(key, encoding='utf-8')\n",
    "        producer_instance.send(topic_name, key=key_bytes, value=data)\n",
    "        producer_instance.flush()\n",
    "        print('Message published successfully : ' + str(data))\n",
    "    except Exception as ex:\n",
    "        print('Exception in publishing message.')\n",
    "        print(str(ex))\n",
    "        \n",
    "def connect_kafka_producer():\n",
    "    _producer = None\n",
    "    try:\n",
    "        _producer = KafkaProducer(bootstrap_servers=['localhost:9092'],\n",
    "                                  value_serializer=lambda x:dumps(x).encode('ascii'),\n",
    "                                  api_version=(0, 10))\n",
    "    except Exception as ex:\n",
    "        print('Exception while connecting Kafka.')\n",
    "        print(str(ex))\n",
    "    finally:\n",
    "        return _producer\n",
    "    \n",
    "\n",
    "        \n",
    "if __name__ == '__main__':\n",
    "   \n",
    "    topic = 'TaskC'\n",
    "    \n",
    "    print('Publishing records..')\n",
    "    producer01 = connect_kafka_producer()\n",
    "    \n",
    "    #for selecting random data without replacement\n",
    "    random = random.sample(range(len(data)), len(data))\n",
    "    for e in range(len(data)): #take all the data for streaming\n",
    "        #use datetime as ISO format for readable in mongoDB\n",
    "        datetime = dt.datetime.now().replace(microsecond=0).isoformat() \n",
    "        stream_data = {'created_time': datetime, 'sender_id' : 1,'data' : data[random[e]]}\n",
    "        publish_message(producer01, topic, 'sender_1',stream_data)\n",
    "        sleep(5) #stream every 5 seconds"
   ]
  },
  {
   "cell_type": "code",
   "execution_count": null,
   "metadata": {},
   "outputs": [],
   "source": []
  },
  {
   "cell_type": "code",
   "execution_count": null,
   "metadata": {},
   "outputs": [],
   "source": []
  }
 ],
 "metadata": {
  "kernelspec": {
   "display_name": "Python 3",
   "language": "python",
   "name": "python3"
  },
  "language_info": {
   "codemirror_mode": {
    "name": "ipython",
    "version": 3
   },
   "file_extension": ".py",
   "mimetype": "text/x-python",
   "name": "python",
   "nbconvert_exporter": "python",
   "pygments_lexer": "ipython3",
   "version": "3.5.2"
  }
 },
 "nbformat": 4,
 "nbformat_minor": 2
}
