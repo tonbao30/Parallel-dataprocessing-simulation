{
 "cells": [
  {
   "cell_type": "code",
   "execution_count": 1,
   "metadata": {},
   "outputs": [],
   "source": [
    "# import statements\n",
    "from time import sleep\n",
    "from json import dumps\n",
    "from kafka import KafkaProducer\n",
    "import random\n",
    "import datetime as dt\n"
   ]
  },
  {
   "cell_type": "code",
   "execution_count": 2,
   "metadata": {},
   "outputs": [],
   "source": [
    "import csv\n",
    "import json\n",
    "\n",
    "csvfile = open('./assignment_data/hotspot_AQUA_streaming.csv', 'r')\n",
    "\n",
    "\n",
    "fieldnames = (\"lat\",\"lon\",\"confidence\",\"surface_temp\")\n",
    "reader = csv.DictReader( csvfile, fieldnames)\n",
    "rows = list(reader)\n",
    "data = rows[1:]"
   ]
  },
  {
   "cell_type": "code",
   "execution_count": null,
   "metadata": {},
   "outputs": [
    {
     "name": "stdout",
     "output_type": "stream",
     "text": [
      "Publishing records..\n",
      "Message published successfully : {'data': {'lat': '-37.9825', 'surface_temp': '57', 'lon': '143.837', 'confidence': '83'}, 'sender_id': 2, 'created_time': '2019-05-24T15:01:53'}\n",
      "Message published successfully : {'data': {'lat': '-37.4391', 'surface_temp': '43', 'lon': '143.0293', 'confidence': '66'}, 'sender_id': 2, 'created_time': '2019-05-24T15:02:06'}\n",
      "Message published successfully : {'data': {'lat': '-36.3523', 'surface_temp': '55', 'lon': '141.0283', 'confidence': '82'}, 'sender_id': 2, 'created_time': '2019-05-24T15:02:30'}\n",
      "Message published successfully : {'data': {'lat': '-37.485', 'surface_temp': '43', 'lon': '148.095', 'confidence': '71'}, 'sender_id': 2, 'created_time': '2019-05-24T15:02:53'}\n",
      "Message published successfully : {'data': {'lat': '-37.9247', 'surface_temp': '81', 'lon': '142.8999', 'confidence': '97'}, 'sender_id': 2, 'created_time': '2019-05-24T15:03:07'}\n",
      "Message published successfully : {'data': {'lat': '-36.1104', 'surface_temp': '76', 'lon': '145.9829', 'confidence': '90'}, 'sender_id': 2, 'created_time': '2019-05-24T15:03:25'}\n",
      "Message published successfully : {'data': {'lat': '-35.4666', 'surface_temp': '65', 'lon': '142.0749', 'confidence': '89'}, 'sender_id': 2, 'created_time': '2019-05-24T15:03:40'}\n",
      "Message published successfully : {'data': {'lat': '-37.7171', 'surface_temp': '68', 'lon': '142.9505', 'confidence': '91'}, 'sender_id': 2, 'created_time': '2019-05-24T15:04:10'}\n",
      "Message published successfully : {'data': {'lat': '-36.6802', 'surface_temp': '106', 'lon': '142.5406', 'confidence': '100'}, 'sender_id': 2, 'created_time': '2019-05-24T15:04:23'}\n",
      "Message published successfully : {'data': {'lat': '-36.5646', 'surface_temp': '48', 'lon': '142.3068', 'confidence': '52'}, 'sender_id': 2, 'created_time': '2019-05-24T15:04:51'}\n",
      "Message published successfully : {'data': {'lat': '-36.4553', 'surface_temp': '49', 'lon': '142.8786', 'confidence': '76'}, 'sender_id': 2, 'created_time': '2019-05-24T15:05:19'}\n",
      "Message published successfully : {'data': {'lat': '-36.2567', 'surface_temp': '55', 'lon': '142.4903', 'confidence': '82'}, 'sender_id': 2, 'created_time': '2019-05-24T15:05:38'}\n",
      "Message published successfully : {'data': {'lat': '-35.1857', 'surface_temp': '92', 'lon': '141.0604', 'confidence': '100'}, 'sender_id': 2, 'created_time': '2019-05-24T15:06:04'}\n",
      "Message published successfully : {'data': {'lat': '-37.368', 'surface_temp': '53', 'lon': '148.05', 'confidence': '79'}, 'sender_id': 2, 'created_time': '2019-05-24T15:06:19'}\n"
     ]
    }
   ],
   "source": [
    "# import statements\n",
    "\n",
    "from time import sleep\n",
    "from json import dumps\n",
    "from kafka import KafkaProducer\n",
    "import random\n",
    "import datetime as dt\n",
    "\n",
    "random.seed(456)\n",
    "def publish_message(producer_instance, topic_name, key, data):\n",
    "    try:\n",
    "        key_bytes = bytes(key, encoding='utf-8')\n",
    "        producer_instance.send(topic_name, key=key_bytes, value=data)\n",
    "        producer_instance.flush()\n",
    "        print('Message published successfully : ' + str(data))\n",
    "    except Exception as ex:\n",
    "        print('Exception in publishing message.')\n",
    "        print(str(ex))\n",
    "        \n",
    "def connect_kafka_producer():\n",
    "    _producer = None\n",
    "    try:\n",
    "        _producer = KafkaProducer(bootstrap_servers=['localhost:9092'],\n",
    "                                  value_serializer=lambda x:dumps(x).encode('ascii'),\n",
    "                                  api_version=(0, 10))\n",
    "    except Exception as ex:\n",
    "        print('Exception while connecting Kafka.')\n",
    "        print(str(ex))\n",
    "    finally:\n",
    "        return _producer\n",
    "    \n",
    "\n",
    "        \n",
    "if __name__ == '__main__':\n",
    "   \n",
    "    topic = 'TaskC'\n",
    "    \n",
    "    print('Publishing records..')\n",
    "    producer02 = connect_kafka_producer()\n",
    "    \n",
    "    #for selecting random data without replacement\n",
    "    rd = random.sample(range(len(data)), len(data))\n",
    "    for e in range(len(data)):\n",
    "        #use datetime as ISO format for readable in mongoDB\n",
    "        datetime = dt.datetime.now().replace(microsecond=0).isoformat()\n",
    "        stream_data = {'created_time': datetime, 'sender_id' : 2,'data' : data[rd[e]]}\n",
    "        publish_message(producer02, topic,'sender_2', stream_data)\n",
    "        interval = random.randrange(10,31)\n",
    "#         uncomment to see the interval \n",
    "#         print(interval)\n",
    "        sleep(interval) #stream every 10-30 seconds"
   ]
  },
  {
   "cell_type": "code",
   "execution_count": null,
   "metadata": {},
   "outputs": [],
   "source": []
  },
  {
   "cell_type": "code",
   "execution_count": null,
   "metadata": {},
   "outputs": [],
   "source": []
  },
  {
   "cell_type": "code",
   "execution_count": null,
   "metadata": {},
   "outputs": [],
   "source": []
  }
 ],
 "metadata": {
  "kernelspec": {
   "display_name": "Python 3",
   "language": "python",
   "name": "python3"
  },
  "language_info": {
   "codemirror_mode": {
    "name": "ipython",
    "version": 3
   },
   "file_extension": ".py",
   "mimetype": "text/x-python",
   "name": "python",
   "nbconvert_exporter": "python",
   "pygments_lexer": "ipython3",
   "version": "3.5.2"
  }
 },
 "nbformat": 4,
 "nbformat_minor": 2
}
