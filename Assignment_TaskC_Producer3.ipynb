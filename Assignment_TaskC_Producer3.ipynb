{
 "cells": [
  {
   "cell_type": "code",
   "execution_count": 1,
   "metadata": {},
   "outputs": [],
   "source": [
    "# import statements\n",
    "from time import sleep\n",
    "from json import dumps\n",
    "from kafka import KafkaProducer\n",
    "import random\n",
    "import datetime as dt\n"
   ]
  },
  {
   "cell_type": "code",
   "execution_count": 2,
   "metadata": {},
   "outputs": [],
   "source": [
    "import csv\n",
    "import json\n",
    "\n",
    "csvfile = open('./assignment_data/hotspot_TERRA_streaming.csv', 'r')\n",
    "\n",
    "\n",
    "fieldnames = (\"lat\",\"lon\",\"confidence\",\"surface_temp\")\n",
    "reader = csv.DictReader( csvfile, fieldnames)\n",
    "rows = list(reader)\n",
    "data = rows[1:]"
   ]
  },
  {
   "cell_type": "code",
   "execution_count": null,
   "metadata": {
    "scrolled": false
   },
   "outputs": [
    {
     "name": "stdout",
     "output_type": "stream",
     "text": [
      "Publishing records..\n",
      "Message published successfully : {'sender_id': 3, 'created_time': '2019-05-24T15:01:59', 'data': {'confidence': '90', 'surface_temp': '67', 'lat': '-36.4325', 'lon': '144.3142'}}\n",
      "Message published successfully : {'sender_id': 3, 'created_time': '2019-05-24T15:02:15', 'data': {'confidence': '90', 'surface_temp': '66', 'lat': '-35.1949', 'lon': '141.0622'}}\n",
      "Message published successfully : {'sender_id': 3, 'created_time': '2019-05-24T15:02:40', 'data': {'confidence': '84', 'surface_temp': '58', 'lat': '-36.8871', 'lon': '145.1536'}}\n",
      "Message published successfully : {'sender_id': 3, 'created_time': '2019-05-24T15:02:51', 'data': {'confidence': '93', 'surface_temp': '73', 'lat': '-37.4984', 'lon': '142.9739'}}\n",
      "Message published successfully : {'sender_id': 3, 'created_time': '2019-05-24T15:03:19', 'data': {'confidence': '96', 'surface_temp': '77', 'lat': '-38.127', 'lon': '143.82'}}\n",
      "Message published successfully : {'sender_id': 3, 'created_time': '2019-05-24T15:03:37', 'data': {'confidence': '55', 'surface_temp': '39', 'lat': '-36.7001', 'lon': '141.7567'}}\n",
      "Message published successfully : {'sender_id': 3, 'created_time': '2019-05-24T15:04:06', 'data': {'confidence': '85', 'surface_temp': '59', 'lat': '-36.3739', 'lon': '141.3614'}}\n",
      "Message published successfully : {'sender_id': 3, 'created_time': '2019-05-24T15:04:20', 'data': {'confidence': '59', 'surface_temp': '40', 'lat': '-38.0383', 'lon': '144.4307'}}\n",
      "Message published successfully : {'sender_id': 3, 'created_time': '2019-05-24T15:04:34', 'data': {'confidence': '66', 'surface_temp': '45', 'lat': '-37.7331', 'lon': '142.923'}}\n",
      "Message published successfully : {'sender_id': 3, 'created_time': '2019-05-24T15:04:52', 'data': {'confidence': '68', 'surface_temp': '44', 'lat': '-36.9986', 'lon': '143.8953'}}\n",
      "Message published successfully : {'sender_id': 3, 'created_time': '2019-05-24T15:05:05', 'data': {'confidence': '73', 'surface_temp': '34', 'lat': '-37.561', 'lon': '148.032'}}\n",
      "Message published successfully : {'sender_id': 3, 'created_time': '2019-05-24T15:05:18', 'data': {'confidence': '62', 'surface_temp': '43', 'lat': '-36.2455', 'lon': '141.3205'}}\n",
      "Message published successfully : {'sender_id': 3, 'created_time': '2019-05-24T15:05:41', 'data': {'confidence': '66', 'surface_temp': '43', 'lat': '-36.5513', 'lon': '144.1473'}}\n",
      "Message published successfully : {'sender_id': 3, 'created_time': '2019-05-24T15:06:06', 'data': {'confidence': '100', 'surface_temp': '96', 'lat': '-37.4352', 'lon': '143.1444'}}\n",
      "Message published successfully : {'sender_id': 3, 'created_time': '2019-05-24T15:06:32', 'data': {'confidence': '81', 'surface_temp': '54', 'lat': '-37.7916', 'lon': '148.4098'}}\n"
     ]
    }
   ],
   "source": [
    "# import statements\n",
    "\n",
    "from time import sleep\n",
    "from json import dumps\n",
    "from kafka import KafkaProducer\n",
    "import random\n",
    "import datetime as dt\n",
    "\n",
    "random.seed(123)\n",
    "def publish_message(producer_instance, topic_name, key, data):\n",
    "    try:\n",
    "        key_bytes = bytes(key, encoding='utf-8')\n",
    "        producer_instance.send(topic_name, key=key_bytes, value=data)\n",
    "        producer_instance.flush()\n",
    "        print('Message published successfully : ' + str(data))\n",
    "    except Exception as ex:\n",
    "        print('Exception in publishing message.')\n",
    "        print(str(ex))\n",
    "        \n",
    "def connect_kafka_producer():\n",
    "    _producer = None\n",
    "    try:\n",
    "        _producer = KafkaProducer(bootstrap_servers=['localhost:9092'],\n",
    "                                  value_serializer=lambda x:dumps(x).encode('ascii'),\n",
    "                                  api_version=(0, 10))\n",
    "    except Exception as ex:\n",
    "        print('Exception while connecting Kafka.')\n",
    "        print(str(ex))\n",
    "    finally:\n",
    "        return _producer\n",
    "    \n",
    "\n",
    "        \n",
    "if __name__ == '__main__':\n",
    "   \n",
    "    topic = 'TaskC'\n",
    "    \n",
    "    print('Publishing records..')\n",
    "    producer03 = connect_kafka_producer()\n",
    "    \n",
    "    #for selecting random data without replacement\n",
    "    rd = random.sample(range(len(data)), len(data))\n",
    "    \n",
    "    for e in range(len(data)):\n",
    "        #use datetime as ISO format for readable in mongoDB\n",
    "        datetime = dt.datetime.now().replace(microsecond=0).isoformat()\n",
    "        stream_data = {'created_time': datetime, 'sender_id': 3,'data' : data[rd[e]]}\n",
    "        publish_message(producer03, topic,'sender_3', stream_data)\n",
    "        interval = random.randrange(10,31)\n",
    "#         uncomment to see the interval \n",
    "#         print(interval)\n",
    "        sleep(interval) #stream every 10-30 seconds"
   ]
  },
  {
   "cell_type": "code",
   "execution_count": null,
   "metadata": {},
   "outputs": [],
   "source": []
  }
 ],
 "metadata": {
  "kernelspec": {
   "display_name": "Python 3",
   "language": "python",
   "name": "python3"
  },
  "language_info": {
   "codemirror_mode": {
    "name": "ipython",
    "version": 3
   },
   "file_extension": ".py",
   "mimetype": "text/x-python",
   "name": "python",
   "nbconvert_exporter": "python",
   "pygments_lexer": "ipython3",
   "version": "3.5.2"
  }
 },
 "nbformat": 4,
 "nbformat_minor": 2
}
